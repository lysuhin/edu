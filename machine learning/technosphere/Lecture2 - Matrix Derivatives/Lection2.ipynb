{
 "cells": [
  {
   "cell_type": "code",
   "execution_count": 1,
   "metadata": {
    "collapsed": true
   },
   "outputs": [],
   "source": [
    "import numpy as np"
   ]
  },
  {
   "cell_type": "markdown",
   "metadata": {},
   "source": [
    "Ваша задача проверить, что найденное вами решение линейной регрессии действительно корректно.\n",
    "\n",
    "$$||Y-X\\beta||^2 \\to min$$\n",
    "\n",
    "1) Сгенерируйте случайную матрицу $X$ и вектор $Y$\n",
    "\n",
    "2) Найдите коэфициенты $\\beta$ и $\\hat{y}$\n",
    "\n",
    "3) Покажите, что ваш вектор действительно является проекцией на линейную оболочку столбцов\n",
    "![title](linreg.jpg)"
   ]
  },
  {
   "cell_type": "code",
   "execution_count": 57,
   "metadata": {
    "collapsed": true
   },
   "outputs": [],
   "source": [
    "L = 10\n",
    "N = 10"
   ]
  },
  {
   "cell_type": "code",
   "execution_count": 58,
   "metadata": {},
   "outputs": [
    {
     "name": "stdout",
     "output_type": "stream",
     "text": [
      "[[-2.24131743  1.25421741 -0.51197239  0.54504537  0.60899316  3.0483259\n",
      "   0.30374409 -0.44081619  3.02707794  0.82796291]\n",
      " [ 0.37089764  0.48329454  0.50343028 -0.63660812  0.27999988  0.24369672\n",
      "  -0.66504154 -0.23747897  0.61372305 -0.64236181]\n",
      " [-0.36129342 -0.69361068  1.52007458 -2.15778043  0.83523928  0.33819532\n",
      "  -1.03572565 -1.62115018 -2.77889292 -0.16864059]\n",
      " [ 0.09756022 -0.8617483   0.61407916 -0.43919227  0.28920168  0.68398623\n",
      "  -1.42598513  2.6685608  -0.16416609 -0.28706465]\n",
      " [-1.31037972  0.04537863 -0.85133952 -1.28885585 -0.64728623  0.47198653\n",
      "   1.16340154 -0.4590467   0.14469881 -1.61815119]\n",
      " [-1.50919108 -1.81706477  0.967396   -0.70638907  0.34234815 -0.56791228\n",
      "  -1.02023263 -0.51519265  0.05423136  0.08310145]\n",
      " [ 0.10514336 -0.08377262  0.60281775  0.49140175  0.91524224 -1.66853674\n",
      "  -1.13543438 -0.19555624  0.58865191 -1.8967206 ]\n",
      " [-1.69689463 -0.63040096 -1.59092884 -1.07230769 -0.08827373  0.17255883\n",
      "  -0.2589676   2.11591444  0.92184836  0.0495917 ]\n",
      " [-0.53963623  2.30879105 -1.1986523   1.33868868  0.43657535  0.46548434\n",
      "  -0.82196103 -0.51894024 -1.09023349  1.01139175]\n",
      " [ 0.89501877  0.58335927 -0.40393769  1.70851293 -0.87044174 -0.57449457\n",
      "   1.08390806 -1.46067618 -0.95534877 -0.90226277]]\n"
     ]
    }
   ],
   "source": [
    "X = np.random.normal(size=(L, N))\n",
    "Y = np.random.normal(size=(L, 1))\n",
    "print X"
   ]
  },
  {
   "cell_type": "code",
   "execution_count": 59,
   "metadata": {},
   "outputs": [
    {
     "name": "stdout",
     "output_type": "stream",
     "text": [
      "[[ 0.69377254]\n",
      " [-0.30208078]\n",
      " [-0.19597147]\n",
      " [ 0.62174464]\n",
      " [ 0.49624943]\n",
      " [-0.43494333]\n",
      " [ 1.04819821]\n",
      " [-0.58983457]\n",
      " [ 0.48793543]\n",
      " [ 1.13202159]]\n"
     ]
    }
   ],
   "source": [
    "print Y"
   ]
  },
  {
   "cell_type": "code",
   "execution_count": 60,
   "metadata": {
    "collapsed": true
   },
   "outputs": [],
   "source": [
    "XT = np.transpose(X)"
   ]
  },
  {
   "cell_type": "code",
   "execution_count": 61,
   "metadata": {
    "collapsed": true
   },
   "outputs": [],
   "source": [
    "beta = np.linalg.inv(XT.dot(X)).dot(XT).dot(Y)"
   ]
  },
  {
   "cell_type": "code",
   "execution_count": 62,
   "metadata": {},
   "outputs": [
    {
     "data": {
      "text/plain": [
       "array([[-0.39778687],\n",
       "       [ 0.12135876],\n",
       "       [ 0.40011832],\n",
       "       [ 0.71056352],\n",
       "       [ 0.53598602],\n",
       "       [ 0.27741394],\n",
       "       [ 0.46661166],\n",
       "       [ 0.33514024],\n",
       "       [-0.37397644],\n",
       "       [-0.68414123]])"
      ]
     },
     "execution_count": 62,
     "metadata": {},
     "output_type": "execute_result"
    }
   ],
   "source": [
    "beta"
   ]
  },
  {
   "cell_type": "code",
   "execution_count": 63,
   "metadata": {},
   "outputs": [],
   "source": [
    "Y_cap = X.dot(beta)"
   ]
  },
  {
   "cell_type": "code",
   "execution_count": 64,
   "metadata": {},
   "outputs": [],
   "source": [
    "h = Y_cap - Y"
   ]
  },
  {
   "cell_type": "code",
   "execution_count": 65,
   "metadata": {},
   "outputs": [
    {
     "data": {
      "text/plain": [
       "array([[  9.82025309e-16]])"
      ]
     },
     "execution_count": 65,
     "metadata": {},
     "output_type": "execute_result"
    }
   ],
   "source": [
    "h.T.dot(Y_cap)"
   ]
  },
  {
   "cell_type": "code",
   "execution_count": 67,
   "metadata": {},
   "outputs": [
    {
     "data": {
      "text/plain": [
       "array([[  9.21485110e-15],\n",
       "       [ -9.43689571e-16],\n",
       "       [ -1.11022302e-15],\n",
       "       [  7.77156117e-16],\n",
       "       [  2.83106871e-15],\n",
       "       [  7.77156117e-16],\n",
       "       [ -1.55431223e-15],\n",
       "       [  3.55271368e-15],\n",
       "       [  1.60982339e-15],\n",
       "       [ -3.99680289e-15]])"
      ]
     },
     "execution_count": 67,
     "metadata": {},
     "output_type": "execute_result"
    }
   ],
   "source": [
    "Y_cap - Y"
   ]
  },
  {
   "cell_type": "code",
   "execution_count": null,
   "metadata": {
    "collapsed": true
   },
   "outputs": [],
   "source": [
    "np."
   ]
  }
 ],
 "metadata": {
  "anaconda-cloud": {},
  "kernelspec": {
   "display_name": "Python [conda root]",
   "language": "python",
   "name": "conda-root-py"
  },
  "language_info": {
   "codemirror_mode": {
    "name": "ipython",
    "version": 2
   },
   "file_extension": ".py",
   "mimetype": "text/x-python",
   "name": "python",
   "nbconvert_exporter": "python",
   "pygments_lexer": "ipython2",
   "version": "2.7.12"
  }
 },
 "nbformat": 4,
 "nbformat_minor": 1
}
