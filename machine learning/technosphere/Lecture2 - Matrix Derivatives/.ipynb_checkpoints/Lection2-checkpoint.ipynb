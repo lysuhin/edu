{
 "cells": [
  {
   "cell_type": "code",
   "execution_count": 1,
   "metadata": {
    "collapsed": true
   },
   "outputs": [],
   "source": [
    "import numpy as np"
   ]
  },
  {
   "cell_type": "markdown",
   "metadata": {},
   "source": [
    "Ваша задача проверить, что найденное вами решение линейной регрессии действительно корректно.\n",
    "\n",
    "$$||Y-X\\beta||^2 \\to min$$\n",
    "\n",
    "1) Сгенерируйте случайную матрицу $X$ и вектор $Y$\n",
    "\n",
    "2) Найдите коэфициенты $\\beta$ и $\\hat{y}$\n",
    "\n",
    "3) Покажите, что ваш вектор действительно является проекцией на линейную оболочку столбцов\n",
    "![title](linreg.jpg)"
   ]
  },
  {
   "cell_type": "code",
   "execution_count": null,
   "metadata": {
    "collapsed": true
   },
   "outputs": [],
   "source": []
  }
 ],
 "metadata": {
  "anaconda-cloud": {},
  "kernelspec": {
   "display_name": "Python [conda root]",
   "language": "python",
   "name": "conda-root-py"
  },
  "language_info": {
   "codemirror_mode": {
    "name": "ipython",
    "version": 2
   },
   "file_extension": ".py",
   "mimetype": "text/x-python",
   "name": "python",
   "nbconvert_exporter": "python",
   "pygments_lexer": "ipython2",
   "version": "2.7.12"
  }
 },
 "nbformat": 4,
 "nbformat_minor": 0
}
