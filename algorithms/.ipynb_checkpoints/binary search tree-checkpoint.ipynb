{
 "cells": [
  {
   "cell_type": "markdown",
   "metadata": {},
   "source": [
    "### Введение"
   ]
  },
  {
   "cell_type": "markdown",
   "metadata": {},
   "source": [
    "**Двоичное дерево поиска (`binary search tree`, `BST`)** - двоичное дерево, для каждого узла которого выполнено условие: значение ключа в родительском узле не меньше, чем значение ключа левого потомка, и не больше, чем значение ключа правого потомка."
   ]
  },
  {
   "cell_type": "markdown",
   "metadata": {},
   "source": [
    "![binary search tree](support/bst \"BST\")"
   ]
  },
  {
   "cell_type": "markdown",
   "metadata": {},
   "source": [
    "Реализация таблицы символов (ассоциативного массива) на `BST` позволяет *в среднем* поиск элемента по ключу, добавление элемента, все порядковые операции (максимум/минимум/ближайший снизу/ближайший сверху) за $O(log N)$, вывод элементов в ранжированном порядке за $O(N)$. Открытой проблемой является операция удаления, которая (в подходе `Hibbard`) после большого числа операций начинает стоить $O(\\sqrt{N}$) из-за разбалансировки дерева."
   ]
  },
  {
   "cell_type": "markdown",
   "metadata": {},
   "source": [
    "Рассмотрим реализацию `BST` на основе односвязного списка. Каждый узел (`Node`) хранит в себе ссылку на левого и правого потомков, размер поддерева с корнем в этом узле, и саму пару `key : value`."
   ]
  },
  {
   "cell_type": "code",
   "execution_count": 1,
   "metadata": {
    "collapsed": true
   },
   "outputs": [],
   "source": [
    "class Node():\n",
    "    def __init__(self, key=None, value=None):\n",
    "        self.key = key\n",
    "        self.value = value\n",
    "        self.left = None\n",
    "        self.right = None\n",
    "        self.count = 1"
   ]
  },
  {
   "cell_type": "markdown",
   "metadata": {},
   "source": [
    "Рекурсивный подход к операциям над деревом:\n",
    "\n",
    "+ Если дано двоичное дерево поиска высоты `h` с корнем `ROOT`, имеющим потомков `L` и `R`, то `L` и `R` - корни двоичных деревьев высоты не больше `h - 1`.\n",
    "+ Удобно реализовывать операции над деревом с помощью рекурсивных функций; при этом функции для операций, изменяющих структуру дерева, возвращают ссылку на узел, в котором производился вызов. В этом случае не нужно хранить в каждом узле ссылку на родителя, т.к. обновление дерева по ссылкам производится \"снизу вверх\"."
   ]
  },
  {
   "cell_type": "markdown",
   "metadata": {},
   "source": [
    "### API"
   ]
  },
  {
   "cell_type": "markdown",
   "metadata": {},
   "source": [
    "+ **`get(key)`, или поиск**: возвращает значение по ключу `key` либо `None` при отсутствии ключа в дереве.\n",
    "\n",
    "  Начиная с корня дерева, последовательно сравниваем значение переданного ключа со значением ключа в узле, переходим в левое или правое поддерево в зависимости от результата сравнения. Останавливаемся, либо когда нашли совпадающий ключ, либо когда попали в терминальный узел (лист)\n",
    "\n",
    "\n",
    "+ **`put(key, value)`, или вставка**: добавляет новый узел с `key:value` либо обновляет `value` для имеющегося узла с `key`.\n",
    "\n",
    "  Начиная с корня дерева, последовательно сравниваем значение переданного ключа со значением ключа в узле, переходим в левое или правое поддерево в зависимости от результата сравнения. Останавливаемся и создаем новый узел (с возвращением \"наверх\" ссылки на него), когда попали в пустой лист, либо когда попали в узел с совпадающим ключом. \n",
    "\n",
    "\n",
    "+ **`keys()`, или список ключей**: выводит все ключи в ранжированном виде.\n",
    "\n",
    "  Обходим дерево слева направо, в каждом узле вызывая рекурсивно метод `_walk(root, queue)` сначала для левого поддерева, добавляя ключ узла в очередь вывода `queue`, затем вызывая метод обхода для правого поддерева.\n",
    "  \n",
    "\n",
    "+ **`size()`, или размер**: возвращает число узлов в дереве.\n",
    "\n",
    "  Используется рекурсивный вызов приватного метода `_size(x)` для левого и правого поддерева `x`, возвращающего 0 в пустом узле и `1 + _size(sub_left) + _size(sub_right)` иначе.\n",
    "\n",
    "\n",
    "+ **`deleteMin()`, или удаление минимума**: удаляет узел с минимальным ключом.\n",
    "\n",
    "  Спускаемся по левым ветвям до листа, заменяем ссылку на себя у родителя в на ссылку на правого потомка (или `null`).\n",
    "\n",
    "\n",
    "+ **`delete(key)`, или удаление**: удаляет узел по ключу `key`.\n",
    "\n",
    "  Реализован метод `Hibbard`. Во-первых, выполняется рекурсивный поиск узла с переданным ключом (`x`). Возможны четыре случая:\n",
    "  \n",
    "  0. Ключ не найден.\n",
    "  1. Узел `x` является листом. Возвращаем родителю ссылку на `null` (т.е. обнуляем ссылку на себя у родительского узла).\n",
    "  2. Узел `x` имеет одного потомка. Возвращаем ссылку на единственного потомка (т.е. переключаем ссылку с себя на потомка у родительского узла)\n",
    "  3. Узел `x` имеет двух потомков. В правом поддереве найдем узел с минимальным ключом `t` (т.е. следующий после `x` в ранжированном ряду ключей), заменим старые значения узла `x` значениями `(key, value)` узла `t`, удалим из правого поддерева узел `t`.\n",
    "  \n",
    "  ![bst-hibbard-deletion](support/bstdel \"BST deletion\")"
   ]
  },
  {
   "cell_type": "markdown",
   "metadata": {},
   "source": [
    "Дополнительные методы:\n",
    "+ **`min()`, или минимум**: возвращает минимальное значение ключа из дерева.\n",
    "\n",
    "\n",
    "+ **`max()`, или максимум**: возвращает максимальное значение ключа из дерева.\n",
    "\n",
    "\n",
    "+ **`floor(key)`, или ближайший снизу**: возвращает самое близкое значение ключа из дерева $\\leq$ `key`.\n",
    "\n",
    "\n",
    "+ **`ceiling(key)`, или ближайший сверху**: возвращает самое близкое значение ключа из дерева $\\geq$ `key`."
   ]
  },
  {
   "cell_type": "markdown",
   "metadata": {},
   "source": [
    "### Реализация"
   ]
  },
  {
   "cell_type": "code",
   "execution_count": 58,
   "metadata": {},
   "outputs": [],
   "source": [
    "class BST():\n",
    "    \n",
    "    def __init__(self):\n",
    "        self.root = None\n",
    "        \n",
    "    def get(self, key):\n",
    "        x = self.root\n",
    "        while (x is not None):\n",
    "            if key < x.key:\n",
    "                x = x.left\n",
    "            elif key > x.key:\n",
    "                x = x.right\n",
    "            else: #key == x.key\n",
    "                return x.value\n",
    "        return None\n",
    "    \n",
    "    def _put(self, x, key, value):\n",
    "        if x is None:\n",
    "            return Node(key, value)\n",
    "        if key < x.key:\n",
    "            x.left = self._put(x.left, key, value)\n",
    "        elif key > x.key:\n",
    "            x.right = self._put(x.right, key, value)\n",
    "        else:\n",
    "            x.value = value\n",
    "        x.count = 1 + self._size(x.left) + self._size(x.right)\n",
    "        return x\n",
    "        \n",
    "    def put(self, key, value):\n",
    "        self.root = self._put(self.root, key, value)\n",
    "        \n",
    "    def keys(self):\n",
    "        import Queue\n",
    "        q = Queue.Queue()\n",
    "        self._walk(self.root, q)\n",
    "        return list(q.queue)\n",
    "    \n",
    "    def _walk(self, x, q):\n",
    "        if x is None:\n",
    "            return\n",
    "        self._walk(x.left, q)\n",
    "        q.put(x.key)\n",
    "        self._walk(x.right, q)\n",
    "        \n",
    "    def _size(self, x):\n",
    "        if x is None:\n",
    "            return 0\n",
    "        else:\n",
    "            return x.count\n",
    "    \n",
    "    def size(self):\n",
    "        return self._size(self.root)\n",
    "        \n",
    "    def max(self):\n",
    "        x = self.root\n",
    "        while (x.right is not None):\n",
    "            x = x.right\n",
    "        return x.key\n",
    "    \n",
    "    def min(self):\n",
    "        x = self.root\n",
    "        while (x.left is not None):\n",
    "            x = x.left\n",
    "        return x.key\n",
    "    \n",
    "    def _floor(self, x, key):\n",
    "        if x is None:\n",
    "            return None\n",
    "        if key == x.key:\n",
    "            return x\n",
    "        elif key < x.key:\n",
    "            return self._floor(x.left, key)\n",
    "        else:\n",
    "            t = self._floor(x.right, key)\n",
    "            if t is not None:\n",
    "                return t\n",
    "            else:\n",
    "                return x\n",
    "    \n",
    "    def floor(self, key):\n",
    "        x = self._floor(self.root, key)\n",
    "        if x is None:\n",
    "            return None\n",
    "        return x.key\n",
    "    \n",
    "    def _ceiling(self, x, key):\n",
    "        if x is None:\n",
    "            return None\n",
    "        if key == x.key:\n",
    "            return x\n",
    "        if key > x.key:\n",
    "            return self._ceiling(x.right, key)\n",
    "        else:\n",
    "            t = self._ceiling(x.left, key)\n",
    "            if t is not None:\n",
    "                return t\n",
    "            else:\n",
    "                return x\n",
    "    \n",
    "    def ceiling(self, key):\n",
    "        x = self._ceiling(self.root, key)\n",
    "        if x is None:\n",
    "            return None\n",
    "        return x.key\n",
    "    \n",
    "    \n",
    "    def _deleteMin(self, x):\n",
    "        if x.left is None:\n",
    "            return x.right\n",
    "        x.left = self._deleteMin(x.left)\n",
    "        x.count = 1 + self._size(x.left) + self._size(x.right)\n",
    "        return x\n",
    "    \n",
    "    def deleteMin(self):\n",
    "        self.root = self._deleteMin(self.root)\n",
    "    \n",
    "    def _delete(self, x, key):\n",
    "        if x is None:\n",
    "            return None\n",
    "        if key < x.key:\n",
    "            x.left = self._delete(x.left, key)\n",
    "        elif key > x.key:\n",
    "            x.right = self._delete(x.right, key)\n",
    "        else:\n",
    "            if x.left is None:\n",
    "                return x.right\n",
    "            if x.right is None:\n",
    "                return x.left\n",
    "            \n",
    "            t = x\n",
    "            x = self.min(x.right)\n",
    "            x.right = self._deleteMin(t.right)\n",
    "            x.left = t.left\n",
    "            \n",
    "        x.count = 1 + self._size(x.left) + self._size(x.right)   \n",
    "        return x\n",
    "        \n",
    "    def delete(self, key):\n",
    "        self.root = self._delete(self.root, key)"
   ]
  },
  {
   "cell_type": "code",
   "execution_count": 80,
   "metadata": {
    "collapsed": true
   },
   "outputs": [],
   "source": [
    "bst = BST()"
   ]
  },
  {
   "cell_type": "code",
   "execution_count": 81,
   "metadata": {
    "collapsed": true
   },
   "outputs": [],
   "source": [
    "bst.put(\"A\", 1)\n",
    "bst.put(\"B\", 3)\n",
    "bst.put(\"C\", 8)\n",
    "bst.put(\"D\", 5)\n",
    "bst.put(\"E\", 1)\n",
    "bst.put(\"G\", 1)"
   ]
  },
  {
   "cell_type": "code",
   "execution_count": 82,
   "metadata": {
    "scrolled": true
   },
   "outputs": [
    {
     "name": "stdout",
     "output_type": "stream",
     "text": [
      "['A', 'B', 'C', 'D', 'E', 'G']\n"
     ]
    }
   ],
   "source": [
    "print bst.keys()"
   ]
  },
  {
   "cell_type": "code",
   "execution_count": 83,
   "metadata": {},
   "outputs": [
    {
     "name": "stdout",
     "output_type": "stream",
     "text": [
      "6\n",
      "A\n",
      "G\n"
     ]
    }
   ],
   "source": [
    "print bst.size()\n",
    "print bst.min()\n",
    "print bst.max()"
   ]
  },
  {
   "cell_type": "code",
   "execution_count": 84,
   "metadata": {},
   "outputs": [
    {
     "name": "stdout",
     "output_type": "stream",
     "text": [
      "B\n",
      "None\n",
      "G\n"
     ]
    }
   ],
   "source": [
    "print bst.floor(\"B\")\n",
    "print bst.ceiling(\"Z\")\n",
    "print bst.ceiling(\"F\")"
   ]
  },
  {
   "cell_type": "code",
   "execution_count": 85,
   "metadata": {},
   "outputs": [],
   "source": [
    "bst.delete(\"B\")"
   ]
  },
  {
   "cell_type": "code",
   "execution_count": 86,
   "metadata": {},
   "outputs": [
    {
     "name": "stdout",
     "output_type": "stream",
     "text": [
      "['A', 'C', 'D', 'E', 'G']\n"
     ]
    }
   ],
   "source": [
    "print bst.keys()"
   ]
  },
  {
   "cell_type": "markdown",
   "metadata": {},
   "source": [
    "Изображения взяты из презентаций к курсу `\"Algorithms. Part I\"` (R.Sedgewick, K.Wayne) на `Coursera.org`."
   ]
  }
 ],
 "metadata": {
  "anaconda-cloud": {},
  "kernelspec": {
   "display_name": "Python [conda root]",
   "language": "python",
   "name": "conda-root-py"
  },
  "language_info": {
   "codemirror_mode": {
    "name": "ipython",
    "version": 2
   },
   "file_extension": ".py",
   "mimetype": "text/x-python",
   "name": "python",
   "nbconvert_exporter": "python",
   "pygments_lexer": "ipython2",
   "version": "2.7.12"
  }
 },
 "nbformat": 4,
 "nbformat_minor": 1
}
