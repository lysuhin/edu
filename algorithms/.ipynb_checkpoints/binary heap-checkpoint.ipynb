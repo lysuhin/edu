{
 "cells": [
  {
   "cell_type": "markdown",
   "metadata": {},
   "source": [
    "### Введение"
   ]
  },
  {
   "cell_type": "markdown",
   "metadata": {},
   "source": [
    "**Двоичная куча (`binary heap`)** - это реализация двоичного дерева с использованием массива, в котором поддерживается специальный порядок элементов (`heap-order`). `Heap-order` заключается в том, что значение ключа родительского узла всегда не меньше значения ключа любого из (двух) его потомков. Такая структура данных позволяет извлечение элемента с максимальным (минимальным) значением ключа (*`top`*) за $O(log N)$, просмотр `top` за `O(1)`, добавление нового элемента за $O(log N)$. "
   ]
  },
  {
   "cell_type": "markdown",
   "metadata": {},
   "source": [
    "Для поддержания `heap-order` используется специальная индексация массива. Индексы принимают значения от `1` до `N`, где `N` - вместимость (`capacity`) кучи. Узел с элементом по индексу `k` имеет двух потомков, индексы которых `2k` и `2k + 1`, и соответственно сам является потомком узла с индексом `[k / 2]`."
   ]
  },
  {
   "cell_type": "markdown",
   "metadata": {},
   "source": [
    "![binary heap representation](support/bh \"binary heap representation\")"
   ]
  },
  {
   "cell_type": "markdown",
   "metadata": {},
   "source": [
    "Необходимые операции для обеспечения `heap-order`:\n",
    "\n",
    "+ **`swim()`, или \"всплытие\" элемента**: применяется в том случае, если стало известно, что ключ в каком-то узле стал больше, чем ключ родителя. Производится последовательный (bottom->up) обмен потомка с родителем до тех пор, пока ключ потомка `>` ключа родителя.\n",
    "\n",
    "\n",
    "+ **`sink()`, или \"смывание\" элемента**: применяется в том случае, если стало известно, что ключ в каком-то узле стал меньше, чем ключ одного из потомков. Производится последовательный (up->bottom) обмен родителя с б**о**льшим из потомков до тех пор, пока ключ родителя `<` ключа потомка.\n",
    "\n",
    "Обе операции стоят $O(log N)$, т.к. глубина дерева `h` не превосходит $[log N]$, а наибольшее число сравнений и обменов в этих операциях не превосходит `h`."
   ]
  },
  {
   "cell_type": "markdown",
   "metadata": {},
   "source": [
    "### `API`\n",
    "\n",
    "+ **`top()`, или просмотр**: возвращает значение наибольшего (наименьшего) элемента `a[1]`. Сложность $O(1)$.\n",
    "\n",
    "\n",
    "+ **`extract()`, или извлечение**: `top()` с удалением элемента из кучи. Производится обмен `a[1]` и `a[N]`, сохраняется `maxEl = a[N]`, размер `N` уменьшается на 1 и возвращается `maxEl`. Далее вызывается `sink()` для `a[1]`. Сложность $O(log N)$.\n",
    "\n",
    "\n",
    "+ **`insert(new_el)`, или вставка**:  добавление нового элемента. Узел с новым ключом добавляется в конец (на позицию `a[++N]`), вызывается `swim()` для него. Сложность $O(log N)$."
   ]
  },
  {
   "cell_type": "markdown",
   "metadata": {},
   "source": [
    "### Реализация"
   ]
  },
  {
   "cell_type": "markdown",
   "metadata": {},
   "source": [
    "+ Переменная вместимость, т.к. используется `list`\n",
    "+ Возможность передать функцию-компаратор для объектов (параметр `comparator`, по умолчанию обычное сравнение) "
   ]
  },
  {
   "cell_type": "code",
   "execution_count": 1,
   "metadata": {
    "collapsed": true
   },
   "outputs": [],
   "source": [
    "class BinaryHeap():\n",
    "    \n",
    "    def __init__(self, comparator=None):\n",
    "        self.data = [0]\n",
    "        self.N = 0\n",
    "        self.comparator = comparator\n",
    "        \n",
    "    def _less(self, i, j):\n",
    "        if self.comparator is None:\n",
    "            return (self.data[i] < self.data[j])\n",
    "        else:\n",
    "            return self.comparator(self.data[i], self.data[j])\n",
    "        \n",
    "    def _exch(self, i, j):\n",
    "        self.data[i], self.data[j] = self.data[j], self.data[i] \n",
    "            \n",
    "    def _swim(self, ind):\n",
    "        while (ind > 1 and self._less(ind / 2, ind)):\n",
    "            self._exch(ind, ind / 2)\n",
    "            ind /= 2\n",
    "    \n",
    "    def _sink(self, ind):\n",
    "        while (2 * ind <= self.N):\n",
    "            ch = 2 * ind\n",
    "            if ch < self.N and self._less(ch, ch + 1):\n",
    "                ch += 1\n",
    "            elif not self._less(ind, ch):\n",
    "                break\n",
    "            self._exch(ind, ch)\n",
    "            ind = ch\n",
    "            \n",
    "    def size(self):\n",
    "        return self.N\n",
    "    \n",
    "    def top(self):\n",
    "        if self.N < 1:\n",
    "            raise ValueError(\"Heap is empty, nothing to top()\")\n",
    "        return self.data[1]\n",
    "    \n",
    "    def insert(self, new_element):\n",
    "        self.data.append(new_element)\n",
    "        self.N += 1\n",
    "        self._swim(self.N)\n",
    "        \n",
    "    def extract(self):\n",
    "        if self.N < 1:\n",
    "            raise ValueError(\"Heap is empty, nothing to extract()\")\n",
    "        maxEl = self.data[1]\n",
    "        self._exch(1, self.N)\n",
    "        self.N -= 1\n",
    "        del self.data[self.N + 1]\n",
    "        self._sink(1)\n",
    "        return maxEl"
   ]
  },
  {
   "cell_type": "markdown",
   "metadata": {},
   "source": [
    "### Демонстрация"
   ]
  },
  {
   "cell_type": "code",
   "execution_count": 2,
   "metadata": {
    "collapsed": true
   },
   "outputs": [],
   "source": [
    "def test(test_list, comparator=None):\n",
    "    bh = BinaryHeap(comparator=comparator)\n",
    "    print \"Insertion stage:\"\n",
    "    for el in test_list:\n",
    "        bh.insert(el)\n",
    "        print \"inserting: %s\\t\\t\" % el, \"heap top: %s\\t\\t\" % bh.top(), \"data: %s\" % bh.data\n",
    "    print \"Heap size = %s\\n\" % bh.size()\n",
    "    print \"Extraction stage:\"  \n",
    "    for _ in xrange(bh.size()):\n",
    "        print \"extracted: %s\\t\\t\" % bh.extract(), \"data: %s\" % bh.data\n",
    "    print \"Heap size = %s\" % bh.size()"
   ]
  },
  {
   "cell_type": "markdown",
   "metadata": {},
   "source": [
    "Демонстрация на примере массива случайных чисел:"
   ]
  },
  {
   "cell_type": "code",
   "execution_count": 3,
   "metadata": {},
   "outputs": [
    {
     "name": "stdout",
     "output_type": "stream",
     "text": [
      "[56, 41, 19, 63, 9, 3, 62, 88, 47, 31]\n"
     ]
    }
   ],
   "source": [
    "import numpy as np\n",
    "test_list = np.random.randint(0, 100, (10,)).tolist()\n",
    "print test_list"
   ]
  },
  {
   "cell_type": "code",
   "execution_count": 4,
   "metadata": {},
   "outputs": [
    {
     "name": "stdout",
     "output_type": "stream",
     "text": [
      "Insertion stage:\n",
      "inserting: 56\t\theap top: 56\t\tdata: [0, 56]\n",
      "inserting: 41\t\theap top: 56\t\tdata: [0, 56, 41]\n",
      "inserting: 19\t\theap top: 56\t\tdata: [0, 56, 41, 19]\n",
      "inserting: 63\t\theap top: 63\t\tdata: [0, 63, 56, 19, 41]\n",
      "inserting: 9\t\theap top: 63\t\tdata: [0, 63, 56, 19, 41, 9]\n",
      "inserting: 3\t\theap top: 63\t\tdata: [0, 63, 56, 19, 41, 9, 3]\n",
      "inserting: 62\t\theap top: 63\t\tdata: [0, 63, 56, 62, 41, 9, 3, 19]\n",
      "inserting: 88\t\theap top: 88\t\tdata: [0, 88, 63, 62, 56, 9, 3, 19, 41]\n",
      "inserting: 47\t\theap top: 88\t\tdata: [0, 88, 63, 62, 56, 9, 3, 19, 41, 47]\n",
      "inserting: 31\t\theap top: 88\t\tdata: [0, 88, 63, 62, 56, 31, 3, 19, 41, 47, 9]\n",
      "Heap size = 10\n",
      "\n",
      "Extraction stage:\n",
      "extracted: 88\t\tdata: [0, 63, 56, 62, 47, 31, 3, 19, 41, 9]\n",
      "extracted: 63\t\tdata: [0, 62, 56, 19, 47, 31, 3, 9, 41]\n",
      "extracted: 62\t\tdata: [0, 56, 47, 19, 41, 31, 3, 9]\n",
      "extracted: 56\t\tdata: [0, 47, 41, 19, 9, 31, 3]\n",
      "extracted: 47\t\tdata: [0, 41, 31, 19, 9, 3]\n",
      "extracted: 41\t\tdata: [0, 31, 9, 19, 3]\n",
      "extracted: 31\t\tdata: [0, 19, 9, 3]\n",
      "extracted: 19\t\tdata: [0, 9, 3]\n",
      "extracted: 9\t\tdata: [0, 3]\n",
      "extracted: 3\t\tdata: [0]\n",
      "Heap size = 0\n"
     ]
    }
   ],
   "source": [
    "test(test_list)"
   ]
  },
  {
   "cell_type": "markdown",
   "metadata": {},
   "source": [
    "Демонстрация на примере строк с символами нижнего регистра. По умолчанию они отсортируются по алфавиту:"
   ]
  },
  {
   "cell_type": "code",
   "execution_count": 5,
   "metadata": {},
   "outputs": [
    {
     "data": {
      "text/plain": [
       "['e', 'sqag', 'h', 'ojrk', 'xoi', 'odi', 'do', 'o']"
      ]
     },
     "execution_count": 5,
     "metadata": {},
     "output_type": "execute_result"
    }
   ],
   "source": [
    "import random\n",
    "import string\n",
    "\n",
    "generate_string = lambda length : ''.join(random.choice(string.ascii_lowercase) for _ in range(length))\n",
    "\n",
    "N = 8\n",
    "test_list = [generate_string(np.random.randint(1, 5)) for _ in xrange(N)]\n",
    "test_list"
   ]
  },
  {
   "cell_type": "code",
   "execution_count": 6,
   "metadata": {},
   "outputs": [
    {
     "name": "stdout",
     "output_type": "stream",
     "text": [
      "Insertion stage:\n",
      "inserting: e\t\theap top: e\t\tdata: [0, 'e']\n",
      "inserting: sqag\t\theap top: sqag\t\tdata: [0, 'sqag', 'e']\n",
      "inserting: h\t\theap top: sqag\t\tdata: [0, 'sqag', 'e', 'h']\n",
      "inserting: ojrk\t\theap top: sqag\t\tdata: [0, 'sqag', 'ojrk', 'h', 'e']\n",
      "inserting: xoi\t\theap top: xoi\t\tdata: [0, 'xoi', 'sqag', 'h', 'e', 'ojrk']\n",
      "inserting: odi\t\theap top: xoi\t\tdata: [0, 'xoi', 'sqag', 'odi', 'e', 'ojrk', 'h']\n",
      "inserting: do\t\theap top: xoi\t\tdata: [0, 'xoi', 'sqag', 'odi', 'e', 'ojrk', 'h', 'do']\n",
      "inserting: o\t\theap top: xoi\t\tdata: [0, 'xoi', 'sqag', 'odi', 'o', 'ojrk', 'h', 'do', 'e']\n",
      "Heap size = 8\n",
      "\n",
      "Extraction stage:\n",
      "extracted: xoi\t\tdata: [0, 'sqag', 'ojrk', 'odi', 'o', 'e', 'h', 'do']\n",
      "extracted: sqag\t\tdata: [0, 'ojrk', 'o', 'odi', 'do', 'e', 'h']\n",
      "extracted: ojrk\t\tdata: [0, 'odi', 'o', 'h', 'do', 'e']\n",
      "extracted: odi\t\tdata: [0, 'o', 'e', 'h', 'do']\n",
      "extracted: o\t\tdata: [0, 'h', 'e', 'do']\n",
      "extracted: h\t\tdata: [0, 'e', 'do']\n",
      "extracted: e\t\tdata: [0, 'do']\n",
      "extracted: do\t\tdata: [0]\n",
      "Heap size = 0\n"
     ]
    }
   ],
   "source": [
    "test(test_list)"
   ]
  },
  {
   "cell_type": "markdown",
   "metadata": {},
   "source": [
    "Теперь передадим в класс функцию, которая будет сравнивать строки по длине:"
   ]
  },
  {
   "cell_type": "code",
   "execution_count": 7,
   "metadata": {
    "scrolled": true
   },
   "outputs": [
    {
     "name": "stdout",
     "output_type": "stream",
     "text": [
      "Insertion stage:\n",
      "inserting: e\t\theap top: e\t\tdata: [0, 'e']\n",
      "inserting: sqag\t\theap top: sqag\t\tdata: [0, 'sqag', 'e']\n",
      "inserting: h\t\theap top: sqag\t\tdata: [0, 'sqag', 'e', 'h']\n",
      "inserting: ojrk\t\theap top: sqag\t\tdata: [0, 'sqag', 'ojrk', 'h', 'e']\n",
      "inserting: xoi\t\theap top: sqag\t\tdata: [0, 'sqag', 'ojrk', 'h', 'e', 'xoi']\n",
      "inserting: odi\t\theap top: sqag\t\tdata: [0, 'sqag', 'ojrk', 'odi', 'e', 'xoi', 'h']\n",
      "inserting: do\t\theap top: sqag\t\tdata: [0, 'sqag', 'ojrk', 'odi', 'e', 'xoi', 'h', 'do']\n",
      "inserting: o\t\theap top: sqag\t\tdata: [0, 'sqag', 'ojrk', 'odi', 'e', 'xoi', 'h', 'do', 'o']\n",
      "Heap size = 8\n",
      "\n",
      "Extraction stage:\n",
      "extracted: sqag\t\tdata: [0, 'ojrk', 'xoi', 'odi', 'e', 'o', 'h', 'do']\n",
      "extracted: ojrk\t\tdata: [0, 'xoi', 'do', 'odi', 'e', 'o', 'h']\n",
      "extracted: xoi\t\tdata: [0, 'odi', 'do', 'h', 'e', 'o']\n",
      "extracted: odi\t\tdata: [0, 'do', 'o', 'h', 'e']\n",
      "extracted: do\t\tdata: [0, 'e', 'o', 'h']\n",
      "extracted: e\t\tdata: [0, 'h', 'o']\n",
      "extracted: h\t\tdata: [0, 'o']\n",
      "extracted: o\t\tdata: [0]\n",
      "Heap size = 0\n"
     ]
    }
   ],
   "source": [
    "compare_len = lambda x, y : (len(x) < len(y))\n",
    "test(test_list, comparator=compare_len)"
   ]
  },
  {
   "cell_type": "markdown",
   "metadata": {},
   "source": [
    "Изображения взяты из презентаций к курсу `\"Algorithms. Part I\"` (R.Sedgewick, K.Wayne) на `Coursera.org`."
   ]
  }
 ],
 "metadata": {
  "anaconda-cloud": {},
  "kernelspec": {
   "display_name": "Python [conda root]",
   "language": "python",
   "name": "conda-root-py"
  },
  "language_info": {
   "codemirror_mode": {
    "name": "ipython",
    "version": 2
   },
   "file_extension": ".py",
   "mimetype": "text/x-python",
   "name": "python",
   "nbconvert_exporter": "python",
   "pygments_lexer": "ipython2",
   "version": "2.7.12"
  }
 },
 "nbformat": 4,
 "nbformat_minor": 1
}
